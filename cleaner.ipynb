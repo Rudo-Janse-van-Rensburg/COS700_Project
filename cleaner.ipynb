{
 "cells": [
  {
   "cell_type": "code",
   "execution_count": 1,
   "source": [
    "import pyspark\n",
    "from pyspark.sql import SparkSession, types\n",
    "from pyspark.sql.functions import col, when\n",
    "import pyspark.sql.types as T\n",
    "import pyspark.sql.functions as F \n",
    "import pandas"
   ],
   "outputs": [],
   "metadata": {}
  },
  {
   "cell_type": "code",
   "execution_count": 2,
   "source": [
    "spark = SparkSession.builder.master('local[*]').appName('risk').getOrCreate()"
   ],
   "outputs": [],
   "metadata": {}
  },
  {
   "cell_type": "code",
   "execution_count": 3,
   "source": [
    "df_data = spark.read.csv('./Data/TD_Expert_Selection_D4_I5_R0.csv',header=True)\n",
    "df_data.show(1,truncate=False)"
   ],
   "outputs": [
    {
     "output_type": "stream",
     "name": "stdout",
     "text": [
      "+-----------+---+---+---+---+---+---+---+------+\n",
      "|d1         |d2 |d3 |d4 |d5 |d6 |d7 |d8 |action|\n",
      "+-----------+---+---+---+---+---+---+---+------+\n",
      "|5589.792219|0  |0  |0  |0  |0  |0  |0  |H0    |\n",
      "+-----------+---+---+---+---+---+---+---+------+\n",
      "only showing top 1 row\n",
      "\n"
     ]
    }
   ],
   "metadata": {}
  },
  {
   "cell_type": "code",
   "execution_count": 4,
   "source": [
    "df_data = df_data.withColumn('action',F.substring(F.col('action'),-1,1)).withColumnRenamed('action', 'heuristic')\n",
    "df_data.show(2,truncate=False)\n",
    "df_data.toPandas().to_csv('./Data/dataset.csv',index=None)"
   ],
   "outputs": [
    {
     "output_type": "stream",
     "name": "stdout",
     "text": [
      "+-----------+-----------+---+---+---+---+---+---+---------+\n",
      "|d1         |d2         |d3 |d4 |d5 |d6 |d7 |d8 |heuristic|\n",
      "+-----------+-----------+---+---+---+---+---+---+---------+\n",
      "|5589.792219|0          |0  |0  |0  |0  |0  |0  |0        |\n",
      "|0          |5589.792219|0  |0  |0  |0  |0  |0  |1        |\n",
      "+-----------+-----------+---+---+---+---+---+---+---------+\n",
      "only showing top 2 rows\n",
      "\n"
     ]
    }
   ],
   "metadata": {}
  }
 ],
 "metadata": {
  "orig_nbformat": 4,
  "language_info": {
   "name": "python",
   "version": "3.8.10",
   "mimetype": "text/x-python",
   "codemirror_mode": {
    "name": "ipython",
    "version": 3
   },
   "pygments_lexer": "ipython3",
   "nbconvert_exporter": "python",
   "file_extension": ".py"
  },
  "kernelspec": {
   "name": "python3",
   "display_name": "Python 3.8.10 64-bit ('DataEngineer': conda)"
  },
  "interpreter": {
   "hash": "38d8ebac5fc5e83484a0d6455fc0f9b9995f8d6cb445118be8f565e1605c0678"
  }
 },
 "nbformat": 4,
 "nbformat_minor": 2
}